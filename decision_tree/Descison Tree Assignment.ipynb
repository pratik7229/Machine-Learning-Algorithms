{
 "cells": [
  {
   "cell_type": "code",
   "execution_count": 14,
   "metadata": {},
   "outputs": [],
   "source": [
    "import numpy as np \n",
    "import pandas as pd \n",
    "#reading Dataset \n"
   ]
  },
  {
   "cell_type": "code",
   "execution_count": 27,
   "metadata": {},
   "outputs": [
    {
     "name": "stdout",
     "output_type": "stream",
     "text": [
      "['NO' 'NO' 'YES' 'YES' 'YES' 'NO' 'YES' 'NO' 'YES' 'YES' 'YES' 'YES' 'YES'\n",
      " 'NO']\n"
     ]
    }
   ],
   "source": [
    "dataset=pd.read_csv(\"dt.csv\") \n",
    "X=dataset.iloc[:,:-1] \n",
    "y=dataset.iloc[:,5].values \n",
    "print(y)\n",
    "#Perform Label encoding \n"
   ]
  },
  {
   "cell_type": "code",
   "execution_count": 16,
   "metadata": {},
   "outputs": [
    {
     "name": "stdout",
     "output_type": "stream",
     "text": [
      "    ID  AGE  INCOME  GENDER  MARITAL STATUS\n",
      "0    0    1       0       1               1\n",
      "1    1    1       0       1               0\n",
      "2    2    0       0       1               1\n",
      "3    3    2       2       1               1\n",
      "4    4    2       1       0               1\n",
      "5    5    2       1       0               0\n",
      "6    6    0       1       0               0\n",
      "7    7    1       2       1               1\n",
      "8    8    1       1       0               0\n",
      "9    9    2       2       0               1\n",
      "10  10    1       2       0               0\n",
      "11  11    0       2       1               0\n",
      "12  12    0       0       0               1\n",
      "13  13    2       2       1               0\n"
     ]
    }
   ],
   "source": [
    "from sklearn.preprocessing import LabelEncoder \n",
    "labelencoder_X = LabelEncoder() \n",
    "X = X.apply(LabelEncoder().fit_transform) \n",
    "print(X) \n"
   ]
  },
  {
   "cell_type": "code",
   "execution_count": 17,
   "metadata": {},
   "outputs": [
    {
     "data": {
      "text/plain": [
       "DecisionTreeClassifier()"
      ]
     },
     "execution_count": 17,
     "metadata": {},
     "output_type": "execute_result"
    }
   ],
   "source": [
    "from sklearn.tree import DecisionTreeClassifier \n",
    "regressor=DecisionTreeClassifier() \n",
    "regressor.fit(X.iloc[:,1:5],y) \n"
   ]
  },
  {
   "cell_type": "code",
   "execution_count": 18,
   "metadata": {},
   "outputs": [
    {
     "name": "stdout",
     "output_type": "stream",
     "text": [
      "Prediction: ['YES']\n"
     ]
    }
   ],
   "source": [
    "#Predict value for the given expression \n",
    "X_in=np.array([1,1,0,0]) \n",
    "y_pred=regressor.predict([X_in]) \n",
    "print(\"Prediction:\", y_pred)\n"
   ]
  },
  {
   "cell_type": "code",
   "execution_count": null,
   "metadata": {},
   "outputs": [],
   "source": []
  },
  {
   "cell_type": "code",
   "execution_count": 25,
   "metadata": {},
   "outputs": [],
   "source": [
    "from six import StringIO  \n",
    "from IPython.display import Image  \n",
    "from sklearn.tree import export_graphviz \n",
    "import pydotplus \n"
   ]
  },
  {
   "cell_type": "code",
   "execution_count": 26,
   "metadata": {},
   "outputs": [
    {
     "data": {
      "text/plain": [
       "True"
      ]
     },
     "execution_count": 26,
     "metadata": {},
     "output_type": "execute_result"
    }
   ],
   "source": [
    "dot_data = StringIO() \n",
    "export_graphviz(regressor, out_file=dot_data, filled=True, rounded=True, special_characters=True) \n",
    "graph = pydotplus.graph_from_dot_data(dot_data.getvalue())  \n",
    "graph.write_png('tree.png') "
   ]
  },
  {
   "cell_type": "code",
   "execution_count": null,
   "metadata": {},
   "outputs": [],
   "source": []
  }
 ],
 "metadata": {
  "kernelspec": {
   "display_name": "Python 3",
   "language": "python",
   "name": "python3"
  },
  "language_info": {
   "codemirror_mode": {
    "name": "ipython",
    "version": 3
   },
   "file_extension": ".py",
   "mimetype": "text/x-python",
   "name": "python",
   "nbconvert_exporter": "python",
   "pygments_lexer": "ipython3",
   "version": "3.6.9"
  }
 },
 "nbformat": 4,
 "nbformat_minor": 2
}
